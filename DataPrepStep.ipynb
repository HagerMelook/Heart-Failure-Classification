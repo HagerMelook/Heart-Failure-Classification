{
 "cells": [
  {
   "cell_type": "markdown",
   "metadata": {},
   "source": [
    "# Data Preparation Step"
   ]
  },
  {
   "cell_type": "markdown",
   "metadata": {},
   "source": [
    "* Import the needed libraries"
   ]
  },
  {
   "cell_type": "code",
   "execution_count": 3,
   "metadata": {},
   "outputs": [],
   "source": [
    "import pandas as pd\n",
    "from sklearn.model_selection import train_test_split\n",
    "from sklearn.preprocessing import StandardScaler\n",
    "import pickle"
   ]
  },
  {
   "cell_type": "markdown",
   "metadata": {},
   "source": [
    "* Load dataset from a CSV file"
   ]
  },
  {
   "cell_type": "code",
   "execution_count": 4,
   "metadata": {},
   "outputs": [],
   "source": [
    "def load_data(file_path):\n",
    "    return pd.read_csv(file_path)"
   ]
  },
  {
   "cell_type": "markdown",
   "metadata": {},
   "source": [
    "* Split the dataset into features (X) and target (y)"
   ]
  },
  {
   "cell_type": "code",
   "execution_count": 5,
   "metadata": {},
   "outputs": [],
   "source": [
    "def split_features_target(df, target_column):\n",
    "    X = df.drop(columns=[target_column])\n",
    "    y = df[target_column]\n",
    "    return X, y"
   ]
  },
  {
   "cell_type": "markdown",
   "metadata": {},
   "source": [
    "* Split dataset into training, validation, and test sets while maintaining class distribution"
   ]
  },
  {
   "cell_type": "code",
   "execution_count": 6,
   "metadata": {},
   "outputs": [],
   "source": [
    "def split_train_validation_test(X, y, train_size=0.7, test_size=0.2, val_size=0.1, random_state=42):\n",
    "    X_train, X_temp, y_train, y_temp = train_test_split(\n",
    "        X, y, test_size=(1 - train_size), stratify=y, random_state=random_state\n",
    "    )\n",
    "    X_val, X_test, y_val, y_test = train_test_split(\n",
    "        X_temp, y_temp, test_size=(test_size / (test_size + val_size)), stratify=y_temp, random_state=random_state\n",
    "    )\n",
    "    return X_train, X_val, X_test, y_train, y_val, y_test"
   ]
  },
  {
   "cell_type": "markdown",
   "metadata": {},
   "source": [
    "* Print class distributions for training, validation, and test sets"
   ]
  },
  {
   "cell_type": "code",
   "execution_count": 11,
   "metadata": {},
   "outputs": [],
   "source": [
    "def print_class_distribution(y_train, y_val, y_test):\n",
    "    print(\"Training Class Distribution:\\n\", y_train.value_counts(normalize=True))\n",
    "    print(\"Validation Class Distribution:\\n\", y_val.value_counts(normalize=True))\n",
    "    print(\"Test Class Distribution:\\n\", y_test.value_counts(normalize=True))"
   ]
  },
  {
   "cell_type": "markdown",
   "metadata": {},
   "source": [
    "* Perform one-hot encoding for categorical columns"
   ]
  },
  {
   "cell_type": "code",
   "execution_count": 7,
   "metadata": {},
   "outputs": [],
   "source": [
    "def encode_categorical_columns(df, categorical_columns):\n",
    "    return pd.get_dummies(df, columns=categorical_columns, dtype='uint8')"
   ]
  },
  {
   "cell_type": "markdown",
   "metadata": {},
   "source": [
    "* Standardize numerical features using StandardScaler"
   ]
  },
  {
   "cell_type": "code",
   "execution_count": 8,
   "metadata": {},
   "outputs": [],
   "source": [
    "def standardize_features(df):\n",
    "    scaler = StandardScaler()\n",
    "    return pd.DataFrame(scaler.fit_transform(df), columns=df.columns)"
   ]
  },
  {
   "cell_type": "markdown",
   "metadata": {},
   "source": [
    "* Main"
   ]
  },
  {
   "cell_type": "code",
   "execution_count": 17,
   "metadata": {},
   "outputs": [
    {
     "name": "stdout",
     "output_type": "stream",
     "text": [
      "Training Class Distribution:\n",
      " HeartDisease\n",
      "1    0.55296\n",
      "0    0.44704\n",
      "Name: proportion, dtype: float64\n",
      "Validation Class Distribution:\n",
      " HeartDisease\n",
      "1    0.554348\n",
      "0    0.445652\n",
      "Name: proportion, dtype: float64\n",
      "Test Class Distribution:\n",
      " HeartDisease\n",
      "1    0.554348\n",
      "0    0.445652\n",
      "Name: proportion, dtype: float64\n"
     ]
    }
   ],
   "source": [
    "def main():\n",
    "    # Load dataset\n",
    "    df = load_data(\"heart.csv\")\n",
    "    #print(df.head())\n",
    "    \n",
    "    # Split features and target\n",
    "    X, y = split_features_target(df, 'HeartDisease')\n",
    "    \n",
    "    # Define categorical columns to encode\n",
    "    categorical_columns = ['Sex', 'ChestPainType', 'RestingECG', 'ExerciseAngina', 'ST_Slope']\n",
    "    df_encoded = encode_categorical_columns(X, categorical_columns)\n",
    "    # print(\"Encoded Columns:\", df_encoded.columns)\n",
    "\n",
    "    # Split data into train, validation, and test sets\n",
    "    X_train, X_val, X_test, y_train, y_val, y_test = split_train_validation_test(df_encoded, y)\n",
    "    \n",
    "    # Validate class distribution\n",
    "    print_class_distribution(y_train, y_val, y_test)\n",
    "        \n",
    "    # if needed, Standardize dataset\n",
    "    # df_standardized = standardize_features(df_encoded)\n",
    "    # print(df_standardized.head())\n",
    "\n",
    "    with open('dataset.pkl', 'wb') as f:\n",
    "        pickle.dump((X_train, y_train, X_val, y_val, X_test, y_test), f)\n",
    "\n",
    "if __name__ == \"__main__\":\n",
    "    main()"
   ]
  }
 ],
 "metadata": {
  "kernelspec": {
   "display_name": "Python 3",
   "language": "python",
   "name": "python3"
  },
  "language_info": {
   "codemirror_mode": {
    "name": "ipython",
    "version": 3
   },
   "file_extension": ".py",
   "mimetype": "text/x-python",
   "name": "python",
   "nbconvert_exporter": "python",
   "pygments_lexer": "ipython3",
   "version": "3.13.0"
  }
 },
 "nbformat": 4,
 "nbformat_minor": 2
}
