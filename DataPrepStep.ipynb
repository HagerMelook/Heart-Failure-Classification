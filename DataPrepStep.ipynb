{
 "cells": [
  {
   "cell_type": "markdown",
   "metadata": {},
   "source": [
    "# Data Preparation Step"
   ]
  },
  {
   "cell_type": "markdown",
   "metadata": {},
   "source": [
    "* Import the needed libraries"
   ]
  },
  {
   "cell_type": "code",
   "execution_count": 59,
   "metadata": {},
   "outputs": [],
   "source": [
    "import pandas as pd\n",
    "from sklearn.model_selection import train_test_split\n",
    "from sklearn.preprocessing import StandardScaler"
   ]
  },
  {
   "cell_type": "markdown",
   "metadata": {},
   "source": [
    "* Load dataset from a CSV file"
   ]
  },
  {
   "cell_type": "code",
   "execution_count": 60,
   "metadata": {},
   "outputs": [],
   "source": [
    "def load_data(file_path):\n",
    "    return pd.read_csv(file_path)"
   ]
  },
  {
   "cell_type": "markdown",
   "metadata": {},
   "source": [
    "* Split the dataset into features (X) and target (y)"
   ]
  },
  {
   "cell_type": "code",
   "execution_count": 61,
   "metadata": {},
   "outputs": [],
   "source": [
    "def split_features_target(df, target_column):\n",
    "    X = df.drop(columns=[target_column])\n",
    "    y = df[target_column]\n",
    "    return X, y"
   ]
  },
  {
   "cell_type": "markdown",
   "metadata": {},
   "source": [
    "* Split dataset into training, validation, and test sets while maintaining class distribution"
   ]
  },
  {
   "cell_type": "code",
   "execution_count": 62,
   "metadata": {},
   "outputs": [],
   "source": [
    "def split_train_validation_test(X, y, train_size=0.7, test_size=0.2, val_size=0.1, random_state=42):\n",
    "    X_train, X_temp, y_train, y_temp = train_test_split(\n",
    "        X, y, test_size=(1 - train_size), stratify=y, random_state=random_state\n",
    "    )\n",
    "    X_val, X_test, y_val, y_test = train_test_split(\n",
    "        X_temp, y_temp, test_size=(test_size / (test_size + val_size)), stratify=y_temp, random_state=random_state\n",
    "    )\n",
    "    return X_train, X_val, X_test, y_train, y_val, y_test"
   ]
  },
  {
   "cell_type": "markdown",
   "metadata": {},
   "source": [
    "* Print class distributions for training, validation, and test sets"
   ]
  },
  {
   "cell_type": "code",
   "execution_count": 63,
   "metadata": {},
   "outputs": [],
   "source": [
    "def print_class_distribution(y_train, y_val, y_test):\n",
    "    print(\"Training Class Distribution:\\n\", y_train.value_counts(normalize=True))\n",
    "    print(\"Validation Class Distribution:\\n\", y_val.value_counts(normalize=True))\n",
    "    print(\"Test Class Distribution:\\n\", y_test.value_counts(normalize=True))"
   ]
  },
  {
   "cell_type": "markdown",
   "metadata": {},
   "source": [
    "* Perform one-hot encoding for categorical columns"
   ]
  },
  {
   "cell_type": "code",
   "execution_count": 64,
   "metadata": {},
   "outputs": [],
   "source": [
    "def encode_categorical_columns(df, categorical_columns):\n",
    "    return pd.get_dummies(df, columns=categorical_columns, dtype='uint8')"
   ]
  },
  {
   "cell_type": "markdown",
   "metadata": {},
   "source": [
    "* Standardize numerical features using StandardScaler"
   ]
  },
  {
   "cell_type": "code",
   "execution_count": 65,
   "metadata": {},
   "outputs": [],
   "source": [
    "def standardize_features(df):\n",
    "    scaler = StandardScaler()\n",
    "    return pd.DataFrame(scaler.fit_transform(df), columns=df.columns)"
   ]
  },
  {
   "cell_type": "markdown",
   "metadata": {},
   "source": [
    "* Main"
   ]
  },
  {
   "cell_type": "code",
   "execution_count": 72,
   "metadata": {},
   "outputs": [
    {
     "name": "stdout",
     "output_type": "stream",
     "text": [
      "Training Class Distribution:\n",
      " HeartDisease\n",
      "1    0.55296\n",
      "0    0.44704\n",
      "Name: proportion, dtype: float64\n",
      "Validation Class Distribution:\n",
      " HeartDisease\n",
      "1    0.554348\n",
      "0    0.445652\n",
      "Name: proportion, dtype: float64\n",
      "Test Class Distribution:\n",
      " HeartDisease\n",
      "1    0.554348\n",
      "0    0.445652\n",
      "Name: proportion, dtype: float64\n",
      "Best_K_According_to_Validation: 13\n",
      "Best_Accuracy: 0.75\n",
      "\n",
      "Test_Accuracy: 0.7228260869565217\n",
      "f1_score: 0.7487684729064039\n",
      "\n",
      "[[57 25]\n",
      " [26 76]]\n"
     ]
    },
    {
     "data": {
      "image/png": "[encoded data removed]",
      "text/plain": [
       "<Figure size 600x400 with 2 Axes>"
      ]
     },
     "metadata": {},
     "output_type": "display_data"
    },
    {
     "name": "stdout",
     "output_type": "stream",
     "text": [
      "Most Confusing Classes: True label 1 → Predicted as 0\n"
     ]
    }
   ],
   "source": [
    "def main():\n",
    "    # Load dataset\n",
    "    df = load_data(\"heart.csv\")\n",
    "    #print(df.head())\n",
    "    \n",
    "    # Split features and target\n",
    "    X, y = split_features_target(df, 'HeartDisease')\n",
    "    \n",
    "    # Define categorical columns to encode\n",
    "    categorical_columns = ['Sex', 'ChestPainType', 'RestingECG', 'ExerciseAngina', 'ST_Slope']\n",
    "    df_encoded = encode_categorical_columns(X, categorical_columns)\n",
    "    # print(\"Encoded Columns:\", df_encoded.columns)\n",
    "\n",
    "    # Split data into train, validation, and test sets\n",
    "    X_train, X_val, X_test, y_train, y_val, y_test = split_train_validation_test(df_encoded, y)\n",
    "    \n",
    "    # Validate class distribution\n",
    "    print_class_distribution(y_train, y_val, y_test)\n",
    "        \n",
    "    # if needed, Standardize dataset\n",
    "    # df_standardized = standardize_features(df_encoded)\n",
    "    # print(df_standardized.head())\n",
    "    classify_knn(X_train, X_val, X_test, y_train, y_val, y_test)\n",
    "\n",
    "if __name__ == \"__main__\":\n",
    "    main()"
   ]
  },
  {
   "cell_type": "markdown",
   "metadata": {},
   "source": [
    "# KNN Classifier"
   ]
  },
  {
   "cell_type": "markdown",
   "metadata": {},
   "source": [
    "* Import the needed libraries"
   ]
  },
  {
   "cell_type": "code",
   "execution_count": 66,
   "metadata": {},
   "outputs": [],
   "source": [
    "from sklearn.neighbors import KNeighborsClassifier\n",
    "from sklearn.metrics import accuracy_score, f1_score, confusion_matrix\n",
    "import matplotlib.pyplot as plt\n",
    "import seaborn as sns\n",
    "import numpy as np"
   ]
  },
  {
   "cell_type": "markdown",
   "metadata": {},
   "source": [
    "* Train the KNN model on X_train, y_train and hyperparameter k"
   ]
  },
  {
   "cell_type": "code",
   "execution_count": 67,
   "metadata": {},
   "outputs": [],
   "source": [
    "def train_knn_model(n_neighbors, X_train, y_train):\n",
    "    knn = KNeighborsClassifier(n_neighbors)\n",
    "    knn.fit(X_train, y_train)\n",
    "    return knn"
   ]
  },
  {
   "cell_type": "markdown",
   "metadata": {},
   "source": [
    "* Validate the KNN model using X_val, y_val and the trained model"
   ]
  },
  {
   "cell_type": "code",
   "execution_count": 68,
   "metadata": {},
   "outputs": [],
   "source": [
    "def validate_knn_model(knn, X_val, y_val):\n",
    "    y_pred = knn.predict(X_val)\n",
    "    accuracy = accuracy_score(y_val,y_pred)\n",
    "    return accuracy"
   ]
  },
  {
   "cell_type": "markdown",
   "metadata": {},
   "source": [
    "* Evaluate the KNN model using X_test, y_test and calculate the accuracy, f1_score and confusion matrix"
   ]
  },
  {
   "cell_type": "code",
   "execution_count": 69,
   "metadata": {},
   "outputs": [],
   "source": [
    "def eval_knn_model(knn, X_test, y_test):\n",
    "    y_pred = knn.predict(X_test)\n",
    "    accuracy = accuracy_score(y_test, y_pred)\n",
    "    f_score = f1_score(y_test, y_pred)\n",
    "    conf_matrix = confusion_matrix(y_test, y_pred)\n",
    "    return accuracy, f_score, conf_matrix"
   ]
  },
  {
   "cell_type": "markdown",
   "metadata": {},
   "source": [
    "* Plot the confusion matrix as heatMap"
   ]
  },
  {
   "cell_type": "code",
   "execution_count": 70,
   "metadata": {},
   "outputs": [],
   "source": [
    "def plot(conf_matrix):\n",
    "    plt.figure(figsize=(6, 4))\n",
    "    sns.heatmap(conf_matrix, annot=True, fmt='d', cmap='Blues', xticklabels=[0,1], yticklabels=[0,1])\n",
    "    plt.xlabel('Predicted')\n",
    "    plt.ylabel('True')\n",
    "    plt.title('Confusion Matrix For KNN')\n",
    "    plt.show()"
   ]
  },
  {
   "cell_type": "markdown",
   "metadata": {},
   "source": [
    "* Classify"
   ]
  },
  {
   "cell_type": "code",
   "execution_count": null,
   "metadata": {},
   "outputs": [],
   "source": [
    "def classify_knn(X_train, X_val, X_test, y_train, y_val, y_test):\n",
    "    best_k = 1\n",
    "    best_accuracy = 0\n",
    "    \n",
    "    for k in range(1, 31):\n",
    "        knn = train_knn_model(k, X_train, y_train)\n",
    "        accuracy = validate_knn_model(knn, X_val, y_val)\n",
    "        if(accuracy > best_accuracy):\n",
    "            best_accuracy = accuracy\n",
    "            best_k = k\n",
    "\n",
    "    print(f\"Best_K_According_to_Validation: {best_k}\")\n",
    "    print(f\"Best_Accuracy: {best_accuracy}\\n\")\n",
    "    \n",
    "    best_knn = train_knn_model(best_k, X_train, y_train)\n",
    "    test_accuracy, f_score, conf_matrix = eval_knn_model(best_knn, X_test, y_test)\n",
    "    \n",
    "    print(f\"Test_Accuracy: {test_accuracy}\")\n",
    "    print(f\"f1_score: {f_score}\\n\")\n",
    "\n",
    "    plot(conf_matrix)\n",
    "    most_confusing = np.unravel_index(np.argmax(conf_matrix - np.diag(np.diag(conf_matrix))), conf_matrix.shape)\n",
    "    print(f\"Most Confusing Classes: True label {most_confusing[0]} → Predicted as {most_confusing[1]}\")\n"
   ]
  }
 ],
 "metadata": {
  "kernelspec": {
   "display_name": "Python 3",
   "language": "python",
   "name": "python3"
  },
  "language_info": {
   "codemirror_mode": {
    "name": "ipython",
    "version": 3
   },
   "file_extension": ".py",
   "mimetype": "text/x-python",
   "name": "python",
   "nbconvert_exporter": "python",
   "pygments_lexer": "ipython3",
   "version": "3.13.0"
  }
 },
 "nbformat": 4,
 "nbformat_minor": 2
}
