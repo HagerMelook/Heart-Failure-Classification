{
 "cells": [
  {
   "cell_type": "markdown",
   "metadata": {},
   "source": [
    "# Data Preparation Step"
   ]
  },
  {
   "cell_type": "markdown",
   "metadata": {},
   "source": [
    "* Import the needed libraries"
   ]
  },
  {
   "cell_type": "code",
   "execution_count": 5,
   "metadata": {},
   "outputs": [],
   "source": [
    "import pandas as pd\n",
    "from sklearn.model_selection import train_test_split\n",
    "from sklearn.preprocessing import StandardScaler\n",
    "import tensorflow as tf\n",
    "from tensorflow.keras.models import Sequential \n",
    "from tensorflow.keras.layers import Dense\n",
    "from tensorflow.keras import callbacks"
   ]
  },
  {
   "cell_type": "markdown",
   "metadata": {},
   "source": [
    "* Load dataset from a CSV file"
   ]
  },
  {
   "cell_type": "code",
   "execution_count": 42,
   "metadata": {},
   "outputs": [],
   "source": [
    "def load_data(file_path):\n",
    "    return pd.read_csv(file_path)"
   ]
  },
  {
   "cell_type": "markdown",
   "metadata": {},
   "source": [
    "* Split the dataset into features (X) and target (y)"
   ]
  },
  {
   "cell_type": "code",
   "execution_count": 43,
   "metadata": {},
   "outputs": [],
   "source": [
    "def split_features_target(df, target_column):\n",
    "    X = df.drop(columns=[target_column])\n",
    "    y = df[target_column]\n",
    "    return X, y"
   ]
  },
  {
   "cell_type": "markdown",
   "metadata": {},
   "source": [
    "* Split dataset into training, validation, and test sets while maintaining class distribution"
   ]
  },
  {
   "cell_type": "code",
   "execution_count": 44,
   "metadata": {},
   "outputs": [],
   "source": [
    "def split_train_validation_test(X, y, train_size=0.7, test_size=0.2, val_size=0.1, random_state=42):\n",
    "    X_train, X_temp, y_train, y_temp = train_test_split(\n",
    "        X, y, test_size=(1 - train_size), stratify=y, random_state=random_state\n",
    "    )\n",
    "    X_val, X_test, y_val, y_test = train_test_split(\n",
    "        X_temp, y_temp, test_size=(test_size / (test_size + val_size)), stratify=y_temp, random_state=random_state\n",
    "    )\n",
    "    return X_train, X_val, X_test, y_train, y_val, y_test"
   ]
  },
  {
   "cell_type": "markdown",
   "metadata": {},
   "source": [
    "* Print class distributions for training, validation, and test sets"
   ]
  },
  {
   "cell_type": "code",
   "execution_count": 6,
   "metadata": {},
   "outputs": [],
   "source": [
    "def print_class_distribution(y_train, y_val, y_test):\n",
    "    print(\"Training Class Distribution:\\n\", y_train.value_counts(normalize=True))\n",
    "    print(\"Validation Class Distribution:\\n\", y_val.value_counts(normalize=True))\n",
    "    print(\"Test Class Distribution:\\n\", y_test.value_counts(normalize=True))"
   ]
  },
  {
   "cell_type": "markdown",
   "metadata": {},
   "source": [
    "* Perform one-hot encoding for categorical columns"
   ]
  },
  {
   "cell_type": "code",
   "execution_count": 7,
   "metadata": {},
   "outputs": [],
   "source": [
    "def encode_categorical_columns(df, categorical_columns):\n",
    "    return pd.get_dummies(df, columns=categorical_columns, dtype='uint8')"
   ]
  },
  {
   "cell_type": "markdown",
   "metadata": {},
   "source": [
    "* Standardize numerical features using StandardScaler"
   ]
  },
  {
   "cell_type": "code",
   "execution_count": 8,
   "metadata": {},
   "outputs": [],
   "source": [
    "def standardize_features(df):\n",
    "    scaler = StandardScaler()\n",
    "    return pd.DataFrame(scaler.fit_transform(df), columns=df.columns)"
   ]
  },
  {
   "cell_type": "markdown",
   "metadata": {},
   "source": [
    "* Main"
   ]
  },
  {
   "cell_type": "code",
   "execution_count": 9,
   "metadata": {},
   "outputs": [
    {
     "name": "stdout",
     "output_type": "stream",
     "text": [
      "   Age Sex ChestPainType  RestingBP  Cholesterol  FastingBS RestingECG  MaxHR  \\\n",
      "0   40   M           ATA        140          289          0     Normal    172   \n",
      "1   49   F           NAP        160          180          0     Normal    156   \n",
      "2   37   M           ATA        130          283          0         ST     98   \n",
      "3   48   F           ASY        138          214          0     Normal    108   \n",
      "4   54   M           NAP        150          195          0     Normal    122   \n",
      "\n",
      "  ExerciseAngina  Oldpeak ST_Slope  HeartDisease  \n",
      "0              N      0.0       Up             0  \n",
      "1              N      1.0     Flat             1  \n",
      "2              N      0.0       Up             0  \n",
      "3              Y      1.5     Flat             1  \n",
      "4              N      0.0       Up             0  \n",
      "Encoded Columns: Index(['Age', 'RestingBP', 'Cholesterol', 'FastingBS', 'MaxHR', 'Oldpeak',\n",
      "       'Sex_F', 'Sex_M', 'ChestPainType_ASY', 'ChestPainType_ATA',\n",
      "       'ChestPainType_NAP', 'ChestPainType_TA', 'RestingECG_LVH',\n",
      "       'RestingECG_Normal', 'RestingECG_ST', 'ExerciseAngina_N',\n",
      "       'ExerciseAngina_Y', 'ST_Slope_Down', 'ST_Slope_Flat', 'ST_Slope_Up'],\n",
      "      dtype='object')\n",
      "Training Class Distribution:\n",
      " HeartDisease\n",
      "1    0.55296\n",
      "0    0.44704\n",
      "Name: proportion, dtype: float64\n",
      "Validation Class Distribution:\n",
      " HeartDisease\n",
      "1    0.554348\n",
      "0    0.445652\n",
      "Name: proportion, dtype: float64\n",
      "Test Class Distribution:\n",
      " HeartDisease\n",
      "1    0.554348\n",
      "0    0.445652\n",
      "Name: proportion, dtype: float64\n",
      "        Age  RestingBP  Cholesterol  FastingBS     MaxHR   Oldpeak     Sex_F  \\\n",
      "0 -1.433140   0.410909     0.825070  -0.551341  1.382928 -0.832432 -0.515952   \n",
      "1 -0.478484   1.491752    -0.171961  -0.551341  0.754157  0.105664  1.938163   \n",
      "2 -1.751359  -0.129513     0.770188  -0.551341 -1.525138 -0.832432 -0.515952   \n",
      "3 -0.584556   0.302825     0.139040  -0.551341 -1.132156  0.574711  1.938163   \n",
      "4  0.051881   0.951331    -0.034755  -0.551341 -0.581981 -0.832432 -0.515952   \n",
      "\n",
      "      Sex_M  ChestPainType_ASY  ChestPainType_ATA  ChestPainType_NAP  \\\n",
      "0  0.515952          -1.084138           2.075177          -0.532838   \n",
      "1 -1.938163          -1.084138          -0.481887           1.876744   \n",
      "2  0.515952          -1.084138           2.075177          -0.532838   \n",
      "3 -1.938163           0.922392          -0.481887          -0.532838   \n",
      "4  0.515952          -1.084138          -0.481887           1.876744   \n",
      "\n",
      "   ChestPainType_TA  RestingECG_LVH  RestingECG_Normal  RestingECG_ST  \\\n",
      "0         -0.229679       -0.507478           0.814275      -0.490449   \n",
      "1         -0.229679       -0.507478           0.814275      -0.490449   \n",
      "2         -0.229679       -0.507478          -1.228087       2.038947   \n",
      "3         -0.229679       -0.507478           0.814275      -0.490449   \n",
      "4         -0.229679       -0.507478           0.814275      -0.490449   \n",
      "\n",
      "   ExerciseAngina_N  ExerciseAngina_Y  ST_Slope_Down  ST_Slope_Flat  \\\n",
      "0          0.823556         -0.823556      -0.271448      -1.002181   \n",
      "1          0.823556         -0.823556      -0.271448       0.997824   \n",
      "2          0.823556         -0.823556      -0.271448      -1.002181   \n",
      "3         -1.214246          1.214246      -0.271448       0.997824   \n",
      "4          0.823556         -0.823556      -0.271448      -1.002181   \n",
      "\n",
      "   ST_Slope_Up  \n",
      "0     1.150674  \n",
      "1    -0.869056  \n",
      "2     1.150674  \n",
      "3    -0.869056  \n",
      "4     1.150674  \n"
     ]
    }
   ],
   "source": [
    "def main():\n",
    "    # Load dataset\n",
    "    df = load_data(\"heart.csv\")\n",
    "    print(df.head())\n",
    "    \n",
    "    # Split features and target\n",
    "    X, y = split_features_target(df, 'HeartDisease')\n",
    "    \n",
    "    # Define categorical columns to encode\n",
    "    categorical_columns = ['Sex', 'ChestPainType', 'RestingECG', 'ExerciseAngina', 'ST_Slope']\n",
    "    df_encoded = encode_categorical_columns(X, categorical_columns)\n",
    "    print(\"Encoded Columns:\", df_encoded.columns)\n",
    "\n",
    "    # Split data into train, validation, and test sets\n",
    "    X_train, X_val, X_test, y_train, y_val, y_test = split_train_validation_test(df_encoded, y)\n",
    "    \n",
    "    # Validate class distribution\n",
    "    print_class_distribution(y_train, y_val, y_test)\n",
    "        \n",
    "    # if needed, Standardize dataset\n",
    "    df_standardized = standardize_features(df_encoded)\n",
    "    print(df_standardized.head())\n",
    "\n",
    "if __name__ == \"__main__\":\n",
    "    main()"
   ]
  },
  {
   "cell_type": "markdown",
   "metadata": {},
   "source": [
    "# Bonus section"
   ]
  },
  {
   "cell_type": "markdown",
   "metadata": {},
   "source": [
    "## Simple Feedforward Neural Network"
   ]
  },
  {
   "cell_type": "code",
   "execution_count": null,
   "metadata": {},
   "outputs": [],
   "source": [
    "class TrainingCallbacks:\n",
    "    def __init__(self, early_stopping_patience=20, reduce_lr_patience=3,\n",
    "                  reduce_lr_factor=0.2, min_lr=1e-5):\n",
    "        self.early_stopping_patience = early_stopping_patience\n",
    "        self.reduce_lr_patience = reduce_lr_patience\n",
    "        self.reduce_lr_factor = reduce_lr_factor\n",
    "        self.min_lr = min_lr\n",
    "\n",
    "    def get_callbacks(self):\n",
    "        # Early stopping callbacks\n",
    "        es = callbacks.EarlyStopping(\n",
    "            monitor='val_accuracy',\n",
    "            patience=self.early_stopping_patience, # Stopping after certain number of epochs with no improvement\n",
    "            verbose=1,\n",
    "            mode='max', # because we want to maximize the validation accuracy\n",
    "            restore_best_weights=True\n",
    "\n",
    "        )\n",
    "\n",
    "        # Learning rate reduction callbacks\n",
    "        rp = callbacks.ReduceLROnPlateau(\n",
    "            monitor='val_accuracy',\n",
    "            factor=self.reduce_lr_factor, \n",
    "            patience=self.reduce_lr_patience, # wait for certain number of epochs before lr reduction\n",
    "            verbose=1,\n",
    "            mode=\"max\",\n",
    "            min_lr=self.min_lr\n",
    "        )\n",
    "\n",
    "        return [es, rp]\n"
   ]
  },
  {
   "cell_type": "code",
   "execution_count": null,
   "metadata": {},
   "outputs": [],
   "source": [
    "class FeedforwardNeuralNetwork:\n",
    "    def __init__(self, input_size, hidden_neurons = 16, learning_rate = 0.001):\n",
    "        self.input_size = input_size\n",
    "        self.hidden_neurons = hidden_neurons\n",
    "        self.learning_rate = learning_rate\n",
    "        self.model = self.build_model()\n",
    "\n",
    "    def build_model(self):\n",
    "        model = Sequential()\n",
    "        # Hidden layer\n",
    "        model.add(Dense(self.hidden_neurons, activation='relu', input_shape=(self.input_size,)))\n",
    "        # Output layer\n",
    "        model.add(Dense(1, activation='sigmoid'))\n",
    "        model.compile(optimizer='adam', loss='binary_crossentropy', metrics=['accuracy'])\n",
    "        return model\n",
    "    \n",
    "    def train(self, X_train, y_train, X_val, y_val, epochs=50, batch_size=32, callbacks=None):\n",
    "        history = self.model.fit(\n",
    "            X_train, y_train,\n",
    "            epochs = epochs,\n",
    "            batch_size=batch_size,\n",
    "            validation_data=(X_val, y_val),\n",
    "            callbacks=callbacks,\n",
    "            verbose=1\n",
    "        )\n",
    "        return history\n",
    "    \n",
    "    def evaluate(self, X_test, y_test):\n",
    "        loss, accuracy = self.model.evaluate(X_test, y_test,verbose=0)\n",
    "        print(\"Test loss:\",loss)\n",
    "        print(\"Test accuracy:\",accuracy)\n",
    "        return loss,accuracy\n",
    "    \n",
    "    def predict(self,X):\n",
    "        return self.model.predict(X)\n"
   ]
  }
 ],
 "metadata": {
  "kernelspec": {
   "display_name": "Python 3",
   "language": "python",
   "name": "python3"
  },
  "language_info": {
   "codemirror_mode": {
    "name": "ipython",
    "version": 3
   },
   "file_extension": ".py",
   "mimetype": "text/x-python",
   "name": "python",
   "nbconvert_exporter": "python",
   "pygments_lexer": "ipython3",
   "version": "3.13.0"
  }
 },
 "nbformat": 4,
 "nbformat_minor": 2
}
