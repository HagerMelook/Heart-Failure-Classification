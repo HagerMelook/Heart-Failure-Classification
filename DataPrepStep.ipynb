{
 "cells": [
  {
   "cell_type": "markdown",
   "metadata": {},
   "source": [
    "# **Heart Failure Classification**"
   ]
  },
  {
   "cell_type": "markdown",
   "metadata": {},
   "source": [
    "## **Data Preparation Step**"
   ]
  },
  {
   "cell_type": "markdown",
   "metadata": {},
   "source": [
    "* Import the needed libraries"
   ]
  },
  {
   "cell_type": "code",
   "execution_count": 19,
   "metadata": {},
   "outputs": [],
   "source": [
    "import pandas as pd\n",
    "from sklearn.model_selection import train_test_split\n",
    "from sklearn.preprocessing import StandardScaler\n",
    "import seaborn as sns\n",
    "import matplotlib.pyplot as plt\n",
    "import numpy as np\n",
    "from collections import Counter\n",
    "from sklearn.metrics import accuracy_score, f1_score, confusion_matrix"
   ]
  },
  {
   "cell_type": "markdown",
   "metadata": {},
   "source": [
    "* Load dataset from a CSV file"
   ]
  },
  {
   "cell_type": "code",
   "execution_count": 20,
   "metadata": {},
   "outputs": [],
   "source": [
    "def load_data(file_path):\n",
    "    return pd.read_csv(file_path)\n",
    "data = load_data('heart.csv')"
   ]
  },
  {
   "cell_type": "markdown",
   "metadata": {},
   "source": [
    "* Split the dataset into features (X) and target (y)"
   ]
  },
  {
   "cell_type": "code",
   "execution_count": 21,
   "metadata": {},
   "outputs": [],
   "source": [
    "def split_features_target(df, target_column):\n",
    "    X = df.drop(columns=[target_column])\n",
    "    y = df[target_column]\n",
    "    return X, y"
   ]
  },
  {
   "cell_type": "markdown",
   "metadata": {},
   "source": [
    "* Split dataset into training, validation, and test sets while maintaining class distribution"
   ]
  },
  {
   "cell_type": "code",
   "execution_count": 22,
   "metadata": {},
   "outputs": [],
   "source": [
    "def split_train_validation_test(X, y, train_size=0.7, test_size=0.2, val_size=0.1, random_state=42):\n",
    "    X_train, X_temp, y_train, y_temp = train_test_split(\n",
    "        X, y, test_size=(1 - train_size), stratify=y, random_state=random_state\n",
    "    )\n",
    "    X_val, X_test, y_val, y_test = train_test_split(\n",
    "        X_temp, y_temp, test_size=(test_size / (test_size + val_size)), stratify=y_temp, random_state=random_state\n",
    "    )\n",
    "    return X_train, X_val, X_test, y_train, y_val, y_test"
   ]
  },
  {
   "cell_type": "code",
   "execution_count": 23,
   "metadata": {},
   "outputs": [],
   "source": [
    "def split_train_validation_test(X, y, train_size=0.7, test_size=0.2, val_size=0.1, random_state=42):\n",
    "    X_train, X_temp, y_train, y_temp = train_test_split(\n",
    "        X, y, test_size=(1 - train_size), stratify=y, random_state=random_state\n",
    "    )\n",
    "    X_val, X_test, y_val, y_test = train_test_split(\n",
    "        X_temp, y_temp, test_size=(test_size / (test_size + val_size)), stratify=y_temp, random_state=random_state\n",
    "    )\n",
    "    return X_train, X_val, X_test, y_train, y_val, y_test\n"
   ]
  },
  {
   "cell_type": "markdown",
   "metadata": {},
   "source": [
    "* Print class distributions for training, validation, and test sets"
   ]
  },
  {
   "cell_type": "code",
   "execution_count": 24,
   "metadata": {},
   "outputs": [],
   "source": [
    "def print_class_distribution(y_train, y_val, y_test):\n",
    "    print(\"Training Class Distribution:\\n\", y_train.value_counts(normalize=True))\n",
    "    print(\"Validation Class Distribution:\\n\", y_val.value_counts(normalize=True))\n",
    "    print(\"Test Class Distribution:\\n\", y_test.value_counts(normalize=True))"
   ]
  },
  {
   "cell_type": "markdown",
   "metadata": {},
   "source": [
    "* Perform one-hot encoding for categorical columns"
   ]
  },
  {
   "cell_type": "code",
   "execution_count": 25,
   "metadata": {},
   "outputs": [],
   "source": [
    "def encode_categorical_columns(df, categorical_columns):\n",
    "    return pd.get_dummies(df, columns=categorical_columns, dtype='uint8')"
   ]
  },
  {
   "cell_type": "markdown",
   "metadata": {},
   "source": [
    "* Standardize numerical features using StandardScaler"
   ]
  },
  {
   "cell_type": "code",
   "execution_count": 26,
   "metadata": {},
   "outputs": [],
   "source": [
    "def standardize_features(df):\n",
    "    scaler = StandardScaler()\n",
    "    return pd.DataFrame(scaler.fit_transform(df), columns=df.columns)"
   ]
  },
  {
   "cell_type": "markdown",
   "metadata": {},
   "source": [
    "* Main"
   ]
  },
  {
   "cell_type": "code",
   "execution_count": 27,
   "metadata": {},
   "outputs": [
    {
     "name": "stdout",
     "output_type": "stream",
     "text": [
      "   Age Sex ChestPainType  ...  Oldpeak  ST_Slope  HeartDisease\n",
      "0   40   M           ATA  ...      0.0        Up             0\n",
      "1   49   F           NAP  ...      1.0      Flat             1\n",
      "2   37   M           ATA  ...      0.0        Up             0\n",
      "3   48   F           ASY  ...      1.5      Flat             1\n",
      "4   54   M           NAP  ...      0.0        Up             0\n",
      "\n",
      "[5 rows x 12 columns]\n",
      "Encoded Columns: Index(['Age', 'RestingBP', 'Cholesterol', 'FastingBS', 'MaxHR', 'Oldpeak',\n",
      "       'Sex_F', 'Sex_M', 'ChestPainType_ASY', 'ChestPainType_ATA',\n",
      "       'ChestPainType_NAP', 'ChestPainType_TA', 'RestingECG_LVH',\n",
      "       'RestingECG_Normal', 'RestingECG_ST', 'ExerciseAngina_N',\n",
      "       'ExerciseAngina_Y', 'ST_Slope_Down', 'ST_Slope_Flat', 'ST_Slope_Up'],\n",
      "      dtype='object')\n",
      "Training Class Distribution:\n",
      " HeartDisease\n",
      "1    0.55296\n",
      "0    0.44704\n",
      "Name: proportion, dtype: float64\n",
      "Validation Class Distribution:\n",
      " HeartDisease\n",
      "1    0.554348\n",
      "0    0.445652\n",
      "Name: proportion, dtype: float64\n",
      "Test Class Distribution:\n",
      " HeartDisease\n",
      "1    0.554348\n",
      "0    0.445652\n",
      "Name: proportion, dtype: float64\n",
      "        Age  RestingBP  Cholesterol  ...  ST_Slope_Down  ST_Slope_Flat  ST_Slope_Up\n",
      "0 -1.433140   0.410909     0.825070  ...      -0.271448      -1.002181     1.150674\n",
      "1 -0.478484   1.491752    -0.171961  ...      -0.271448       0.997824    -0.869056\n",
      "2 -1.751359  -0.129513     0.770188  ...      -0.271448      -1.002181     1.150674\n",
      "3 -0.584556   0.302825     0.139040  ...      -0.271448       0.997824    -0.869056\n",
      "4  0.051881   0.951331    -0.034755  ...      -0.271448      -1.002181     1.150674\n",
      "\n",
      "[5 rows x 20 columns]\n"
     ]
    }
   ],
   "source": [
    "def main():\n",
    "    # Load dataset\n",
    "    df = load_data(\"heart.csv\")\n",
    "    print(df.head())\n",
    "    \n",
    "    # Split features and target\n",
    "    X, y = split_features_target(df, 'HeartDisease')\n",
    "    \n",
    "    # Define categorical columns to encode\n",
    "    categorical_columns = ['Sex', 'ChestPainType', 'RestingECG', 'ExerciseAngina', 'ST_Slope']\n",
    "    df_encoded = encode_categorical_columns(X, categorical_columns)\n",
    "    print(\"Encoded Columns:\", df_encoded.columns)\n",
    "\n",
    "    # Split data into train, validation, and test sets\n",
    "    X_train, X_val, X_test, y_train, y_val, y_test = split_train_validation_test(df_encoded, y)\n",
    "    \n",
    "    # Validate class distribution\n",
    "    print_class_distribution(y_train, y_val, y_test)\n",
    "        \n",
    "    # if needed, Standardize dataset\n",
    "    df_standardized = standardize_features(df_encoded)\n",
    "    print(df_standardized.head())\n",
    "    return X_train, X_val, X_test, y_train, y_val, y_test\n",
    "\n",
    "\n",
    "X_train, X_val, X_test, y_train, y_val, y_test = main()"
   ]
  },
  {
   "cell_type": "markdown",
   "metadata": {},
   "source": [
    "## **Decision Tree**"
   ]
  },
  {
   "cell_type": "markdown",
   "metadata": {},
   "source": [
    "### **Building the model**"
   ]
  },
  {
   "cell_type": "code",
   "execution_count": null,
   "metadata": {},
   "outputs": [],
   "source": [
    "class DecisionTreeClassifier:\n",
    "    class Node:\n",
    "        def __init__(\n",
    "            self,\n",
    "            feature : int  | None = None,\n",
    "            threshold: float | None = None,\n",
    "            predicted_class: int | None  = None,\n",
    "            depth: int | None = None,\n",
    "            left: \"Node | None\" = None,\n",
    "            right: \"Node | None\" = None,\n",
    "        ):\n",
    "            self.feature = feature\n",
    "            self.threshold = threshold  # <= threshold goes to left, > threshold goes to right\n",
    "            self.left = left\n",
    "            self.right = right\n",
    "            self.predicted_class = predicted_class\n",
    "            self.depth = depth\n",
    "\n",
    "    def __init__(self, max_depth: int = 4, min_samples_split: int =10):\n",
    "        self.max_depth = max_depth\n",
    "        self.min_samples_split = min_samples_split\n",
    "        self.root = None\n",
    "\n",
    "    def fit(self, X : pd.DataFrame, y : pd.Series):\n",
    "        self.X_train = X\n",
    "        self.y_train = y\n",
    "        self.root = self._build_decision_tree(X, y, 0)\n",
    "\n",
    "    def predict(self, X : pd.DataFrame) -> list[int]: # classification of each input\n",
    "        predictions_list = [ self._traverse_tree(row, self.root) for _, row in X.iterrows() ]\n",
    "        return predictions_list\n",
    "\n",
    "    def _build_decision_tree(self, X : pd.DataFrame, y : pd.Series, curr_depth : int) -> Node:\n",
    "        if (curr_depth == self.max_depth or len(set(y)) <= 1 or (self.min_samples_split is not None and self.min_samples_split > len(y))):\n",
    "            return self.Node(predicted_class=Counter(y).most_common(1)[0][0], depth=curr_depth)\n",
    "\n",
    "        feature, threshold = self._best_split(X, y)\n",
    "        tree_node = self.Node(feature= feature,threshold=threshold,depth=curr_depth)\n",
    "\n",
    "        X_left_split = X.loc[X.iloc[:, feature] <= threshold, :]\n",
    "        y_left_split = y[X.iloc[:, feature] <= threshold]\n",
    "        X_right_split = X.loc[X.iloc[:, feature] > threshold, :]\n",
    "        y_right_split = y[X.iloc[:, feature] > threshold]\n",
    "\n",
    "        tree_node.left = self._build_decision_tree(X_left_split, y_left_split, curr_depth + 1)\n",
    "        tree_node.right = self._build_decision_tree(X_right_split, y_right_split, curr_depth + 1)\n",
    "        return tree_node\n",
    "\n",
    "    def _best_split(self, X : pd.DataFrame, y : pd.Series) -> tuple: # feature and thresold are integers\n",
    "        unique_values_list = [np.unique(X.iloc[:, i].values) for i in range(X.shape[1])]\n",
    "        mid_points_list = [values[:-1] + np.diff(values) / 2 for values in unique_values_list]\n",
    "\n",
    "        max_info_gain = {\"infoGain\": -float(\"inf\"), \"feature\": -1, \"threshold\": None}\n",
    "        for i in range(X.shape[1]):\n",
    "            local_max_info_gain = { \"infoGain\": -float(\"inf\"), \"feature\": -1, \"threshold\": None}\n",
    "            for split in mid_points_list[i]:\n",
    "                left_split = y[X.iloc[:, i] <= split]\n",
    "                right_split = y[X.iloc[:, i] > split]\n",
    "                info_gain = self._information_gain(y, left_split, right_split)\n",
    "                if info_gain > local_max_info_gain[\"infoGain\"]:\n",
    "                    local_max_info_gain = { \"infoGain\": info_gain, \"feature\": i, \"threshold\": split}\n",
    "            if local_max_info_gain[\"infoGain\"] > max_info_gain[\"infoGain\"]:\n",
    "                max_info_gain = local_max_info_gain\n",
    "\n",
    "        return max_info_gain[\"feature\"], max_info_gain[\"threshold\"]\n",
    "\n",
    "    def _traverse_tree(self, x : pd.Series, node : Node) -> int: # returns a class (0/1)\n",
    "        if node.predicted_class is not None:\n",
    "            return node.predicted_class\n",
    "        return self._traverse_tree(x, node.left) if x.iloc[node.feature] <= node.threshold else self._traverse_tree(x, node.right)\n",
    "\n",
    "    def _information_gain(self, y : pd.Series, y1 : pd.Series, y2 : pd.Series) -> float:\n",
    "        y_entropy = self._entropy(y)\n",
    "        y_entropy_after_split_1 = self._entropy(y1)\n",
    "        y_entropy_after_split_2 = self._entropy(y2)\n",
    "        return (\n",
    "            y_entropy\n",
    "            - (len(y1) / len(y)) * y_entropy_after_split_1\n",
    "            - (len(y2) / len(y)) * y_entropy_after_split_2\n",
    "        )\n",
    "\n",
    "    def _entropy(self, y : pd.Series) -> float | int:\n",
    "        zeroes_number = (y == 0).sum()\n",
    "        ones_number = (y == 1).sum()\n",
    "        probs = np.array([ones_number / len(y), zeroes_number / len(y)])\n",
    "        return -np.sum(probs * np.log2(np.where(probs == 0, 1, probs)))\n"
   ]
  },
  {
   "cell_type": "markdown",
   "metadata": {},
   "source": [
    "### **Tuning Hyperparameters Using the Validation Set**"
   ]
  },
  {
   "cell_type": "code",
   "execution_count": null,
   "metadata": {},
   "outputs": [],
   "source": [
    "from copy import deepcopy\n",
    "class HyperParameterTuner:\n",
    "    def __init__(self, model : DecisionTreeClassifier):\n",
    "        self.model = model\n",
    "\n",
    "    def fine_tune(self, X_train : pd.DataFrame, y_train : pd.Series, X_val : pd.DataFrame, y_val : pd.Series, param_grid : dict) -> None:\n",
    "        best_accuracy = 0\n",
    "        best_params = None\n",
    "        best_model = self.model\n",
    "        for max_depth in param_grid['max_depth']:\n",
    "            for min_samples_split in param_grid['min_samples_split']:\n",
    "                temp_model = deepcopy(self.model)\n",
    "                temp_model.max_depth = max_depth\n",
    "                temp_model.min_samples_split = min_samples_split\n",
    "                temp_model.fit(X_train, y_train)\n",
    "\n",
    "                y_pred = temp_model.predict(X_val)\n",
    "                val_accuracy = accuracy_score(y_val, y_pred)\n",
    "                if val_accuracy > best_accuracy:\n",
    "                    best_accuracy = val_accuracy\n",
    "                    best_params = {'max_depth' : max_depth, 'min_samples_split': min_samples_split}\n",
    "                    best_model = temp_model\n",
    "                    print(\"current hyperparameters after fine tuning:\", best_params)\n",
    "                    print(\"---------------------------------------------------------------------------------------\")\n",
    "        return best_model, best_params"
   ]
  },
  {
   "cell_type": "code",
   "execution_count": 33,
   "metadata": {},
   "outputs": [
    {
     "name": "stdout",
     "output_type": "stream",
     "text": [
      "current hyperparameters after fine tuning: {'max_depth': 2, 'min_samples_split': 2}\n",
      "---------------------------------------------------------------------------------------\n",
      "current hyperparameters after fine tuning: {'max_depth': 3, 'min_samples_split': 2}\n",
      "---------------------------------------------------------------------------------------\n",
      "current hyperparameters after fine tuning: {'max_depth': 5, 'min_samples_split': 2}\n",
      "---------------------------------------------------------------------------------------\n",
      "Fine-tuned to max_depth=5, min_samples_split=2\n"
     ]
    }
   ],
   "source": [
    "import sklearn.tree\n",
    "\n",
    "model = sklearn.tree.DecisionTreeClassifier(criterion=\"entropy\", max_depth=5, random_state=42)\n",
    "\n",
    "model = DecisionTreeClassifier()\n",
    "fine_tuned_model = HyperParameterTuner(model)\n",
    "param_grid = {\n",
    "    \"max_depth\": [2, 3, 4, 5, 6, None],\n",
    "    \"min_samples_split\": [2, 3, 4, 20, 30, 40],\n",
    "}\n",
    "\n",
    "best_model, best_params = fine_tuned_model.fine_tune(X_train, y_train, X_val, y_val, param_grid)\n",
    "max_depth = best_params['max_depth']\n",
    "min_samples_split = best_params['min_samples_split']\n",
    "print(f\"Fine-tuned to max_depth={max_depth}, min_samples_split={min_samples_split}\")"
   ]
  },
  {
   "cell_type": "markdown",
   "metadata": {},
   "source": [
    "### **Evaluating the model**"
   ]
  },
  {
   "cell_type": "code",
   "execution_count": 34,
   "metadata": {},
   "outputs": [
    {
     "name": "stdout",
     "output_type": "stream",
     "text": [
      "{'Accuracy': 0.842391304347826, 'F1-Score': 0.8512820512820513, 'Confusion Matrix': array([[72, 10],\n",
      "       [19, 83]], dtype=int64)}\n"
     ]
    },
    {
     "data": {
      "image/png": "[encoded data removed]",
      "text/plain": [
       "<Figure size 640x480 with 2 Axes>"
      ]
     },
     "metadata": {},
     "output_type": "display_data"
    }
   ],
   "source": [
    "best_model.fit(X_train, y_train)\n",
    "y_pred = best_model.predict(X_test)\n",
    "\n",
    "test_accuracy = accuracy_score(y_test, y_pred)\n",
    "f1 = f1_score(y_test, y_pred)\n",
    "cm = confusion_matrix(y_test, y_pred)\n",
    "sns.heatmap(cm, annot=True, cmap=sns.cubehelix_palette(as_cmap=True))\n",
    "summary = {\"Accuracy\": test_accuracy, \"F1-Score\": f1, \"Confusion Matrix\": cm}\n",
    "print(summary)"
   ]
  }
 ],
 "metadata": {
  "kernelspec": {
   "display_name": "base",
   "language": "python",
   "name": "python3"
  },
  "language_info": {
   "codemirror_mode": {
    "name": "ipython",
    "version": 3
   },
   "file_extension": ".py",
   "mimetype": "text/x-python",
   "name": "python",
   "nbconvert_exporter": "python",
   "pygments_lexer": "ipython3",
   "version": "3.11.5"
  }
 },
 "nbformat": 4,
 "nbformat_minor": 2
}
